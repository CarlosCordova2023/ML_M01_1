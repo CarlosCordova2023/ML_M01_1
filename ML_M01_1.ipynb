{
  "nbformat": 4,
  "nbformat_minor": 0,
  "metadata": {
    "colab": {
      "provenance": [],
      "authorship_tag": "ABX9TyMEpSb0oxMu9sJlI4qgsFXs",
      "include_colab_link": true
    },
    "kernelspec": {
      "name": "python3",
      "display_name": "Python 3"
    },
    "language_info": {
      "name": "python"
    }
  },
  "cells": [
    {
      "cell_type": "markdown",
      "metadata": {
        "id": "view-in-github",
        "colab_type": "text"
      },
      "source": [
        "<a href=\"https://colab.research.google.com/github/CarlosCordova2023/ML_M01_1/blob/main/ML_M01_1.ipynb\" target=\"_parent\"><img src=\"https://colab.research.google.com/assets/colab-badge.svg\" alt=\"Open In Colab\"/></a>"
      ]
    },
    {
      "cell_type": "code",
      "execution_count": 5,
      "metadata": {
        "colab": {
          "base_uri": "https://localhost:8080/"
        },
        "id": "KKvJpR-OTU5S",
        "outputId": "34f0367d-4bcc-4a82-b30f-da83ec80c9c0"
      },
      "outputs": [
        {
          "output_type": "stream",
          "name": "stdout",
          "text": [
            "[]\n"
          ]
        }
      ],
      "source": [
        "# Grafo bipartito simple: usuarios 'u:*' e ítems 'i:*'\n",
        "from collections import deque  # Cola FIFO eficiente\n",
        "\n",
        "# Adyacencias: para cada nodo, a qué nodos se conecta\n",
        "G = {\n",
        "    \"u:ana\": {\"i:book1\", \"i:book2\"},\n",
        "    \"u:luis\": {\"i:book2\", \"i:book3\"},\n",
        "    \"u:sol\": {\"i:book3\"},\n",
        "    \"i:book1\": {\"u:ana\"},\n",
        "    \"i:book2\": {\"u:ana\", \"u:luis\"},\n",
        "    \"i:book3\": {\"u:luis\", \"u:sol\"},\n",
        "}\n",
        "\n",
        "def bfs_levels(graph, source, max_depth=2):\n",
        "    # Nivel (distancia en saltos) de cada nodo visitado\n",
        "    level = {source: 0}         # El origen está a distancia 0 de sí mismo\n",
        "    # Cola para explorar vecinos en orden creciente de nivel (BFS)\n",
        "    q = deque([source])         # Comenzamos en 'source'\n",
        "    while q:                    # Mientras haya nodos por procesar\n",
        "        v = q.popleft()         # Saco el más antiguo (FIFO)\n",
        "        if level[v] == max_depth:  # Si ya alcancé la profundidad deseada\n",
        "            continue            # No expandir más desde aquí\n",
        "        for w in graph.get(v, ()):  # Recorro vecinos de v\n",
        "            if w not in level:      # Si aún no fue visitado\n",
        "                level[w] = level[v] + 1  # Su nivel es el de v + 1\n",
        "                q.append(w)              # Encolarlo para explorar sus vecinos\n",
        "    return level                 # Devuelvo niveles por nodo\n",
        "\n",
        "def recommend_2_hops(graph, user):\n",
        "    # Ejecutamos BFS hasta 2 saltos desde 'user'\n",
        "    levels = bfs_levels(graph, user, max_depth=2)  # Distancias por nodo\n",
        "    # Candidatos: ítems a distancia 2 (u -> i -> u -> i) o 1 (u -> i) si quisieras\n",
        "    recs = [n for n, d in levels.items() if n.startswith(\"i:\") and d == 2]\n",
        "    # Filtramos ítems que ya tiene el usuario (nivel 1)\n",
        "    owned = {n for n, d in levels.items() if n.startswith(\"i:\") and d == 1}\n",
        "    return [r for r in recs if r not in owned]     # Sugerir lo nuevo\n",
        "\n",
        "# Ejemplo: recomendaciones para Ana\n",
        "#print(recommend_2_hops(G, \"u:ana\"))  # Esperable: ['i:book3']\n",
        "print(recommend_2_hops(G, \"u:luis\"))  # Esperable: ['i:book3']\n"
      ]
    },
    {
      "cell_type": "code",
      "source": [
        "import heapq  # Cola de prioridad (mínimo primero)\n",
        "\n",
        "# Grafo ponderado: dict[nodo] -> lista de (vecino, costo)\n",
        "W = {\n",
        "    \"A\": [(\"B\", 2), (\"C\", 5)],\n",
        "    \"B\": [(\"A\", 2), (\"C\", 1), (\"D\", 3)],\n",
        "    \"C\": [(\"A\", 5), (\"B\", 1), (\"D\", 1)],\n",
        "    \"D\": [(\"B\", 3), (\"C\", 1)],\n",
        "}\n",
        "\n",
        "def dijkstra(graph, source):\n",
        "    # dist almacena la mejor distancia conocida a cada nodo\n",
        "    dist = {source: 0.0}                   # Al origen se llega con costo 0\n",
        "    # heap almacena pares (distancia acumulada, nodo)\n",
        "    heap = [(0.0, source)]                 # Inicializo con el origen\n",
        "    visited = set()                        # Para no re-procesar nodos fijos\n",
        "    while heap:                            # Mientras haya candidatos\n",
        "        d, v = heapq.heappop(heap)         # Tomo el nodo con menor distancia\n",
        "        if v in visited:                   # Si ya lo fijé, salto\n",
        "            continue\n",
        "        visited.add(v)                     # Lo marco como procesado\n",
        "        for w, cost in graph.get(v, []):   # Exploro vecinos\n",
        "            nd = d + cost                  # Costo alternativo por v -> w\n",
        "            if nd < dist.get(w, float(\"inf\")):  # Si mejora lo conocido\n",
        "                dist[w] = nd               # Actualizo la mejor distancia\n",
        "                heapq.heappush(heap, (nd, w))  # Reencolo w con su nuevo costo\n",
        "    return dist                             # Distancias finales desde source\n",
        "\n",
        "# Feature: distancia mínima al hub 'A'\n",
        "dist_to_hub = dijkstra(W, \"A\")             # Ejecuta Dijkstra desde 'A'\n",
        "print(dist_to_hub)                         # {'A': 0.0, 'B': 2.0, 'C': 3.0, 'D': 4.0}\n",
        "# Estas distancias pueden añadirse como columnas de features en tu dataset tabular.\n"
      ],
      "metadata": {
        "colab": {
          "base_uri": "https://localhost:8080/"
        },
        "id": "rP9NTzPjTwYb",
        "outputId": "5b8dfd65-dd11-4b6a-9d48-96caf148752c"
      },
      "execution_count": 6,
      "outputs": [
        {
          "output_type": "stream",
          "name": "stdout",
          "text": [
            "{'A': 0.0, 'B': 2.0, 'C': 3.0, 'D': 4.0}\n"
          ]
        }
      ]
    },
    {
      "cell_type": "code",
      "source": [
        "import numpy as np  # Cálculo vectorizado\n",
        "\n",
        "def gini_impurity(y):\n",
        "    # Calcula 1 - sum(p_k^2) para clases en y\n",
        "    m = len(y)                                    # N° de muestras\n",
        "    if m == 0: return 0.0                         # Caso vacío\n",
        "    _, counts = np.unique(y, return_counts=True)  # Frecuencias por clase\n",
        "    p = counts / m                                # Probabilidades\n",
        "    return 1.0 - np.sum(p * p)                    # Fórmula de Gini\n",
        "\n",
        "def best_threshold_stump(x, y):\n",
        "    # Devuelve (umbral, pred_left, pred_right, score) que minimiza Gini ponderado\n",
        "    order = np.argsort(x)                         # Índices que ordenan x\n",
        "    x_sorted, y_sorted = x[order], y[order]       # Reordenamos por x\n",
        "    # Candidatos: promedios entre valores consecutivos\n",
        "    thr_candidates = (x_sorted[:-1] + x_sorted[1:]) / 2.0\n",
        "    best = (None, None, None, float(\"inf\"))       # Mejor (thr, yL, yR, score)\n",
        "    for thr in thr_candidates:                    # Probar cada umbral\n",
        "        left = y_sorted[x_sorted <= thr]          # Etiquetas a la izquierda\n",
        "        right = y_sorted[x_sorted > thr]          # Etiquetas a la derecha\n",
        "        # Gini ponderado por tamaño de cada lado\n",
        "        m = len(y_sorted)\n",
        "        score = (len(left)/m)*gini_impurity(left) + (len(right)/m)*gini_impurity(right)\n",
        "        if score < best[3]:                       # Si mejora el mejor actual\n",
        "            # La predicción en cada lado será la clase mayoritaria\n",
        "            pred_left = np.bincount(left).argmax()\n",
        "            pred_right = np.bincount(right).argmax()\n",
        "            best = (thr, pred_left, pred_right, score)\n",
        "    return best                                    # Devuelvo el mejor stump\n",
        "\n",
        "def predict_stump(x, stump):\n",
        "    # Aplica el stump: si x <= thr -> pred_left, si no -> pred_right\n",
        "    thr, pred_left, pred_right, _ = stump         # Desempaquetar parámetros\n",
        "    return np.where(x <= thr, pred_left, pred_right)  # Vector de predicciones\n",
        "\n",
        "# Datos de ejemplo (binarios): una sola feature 'x' y etiquetas {0,1}\n",
        "x = np.array([0.2, 0.4, 0.5, 0.55, 0.8, 0.85])     # Valores escalares\n",
        "y = np.array([0,   0,   0,   1,    1,    1])       # Clases binarias\n",
        "\n",
        "stump = best_threshold_stump(x, y)                  # Entreno el “árbol” de 1 split\n",
        "print(\"Mejor stump:\", stump)                        # (umbral, yL, yR, gini)\n",
        "print(\"Predicciones:\", predict_stump(x, stump))     # Aplico el stump al conjunto\n"
      ],
      "metadata": {
        "colab": {
          "base_uri": "https://localhost:8080/"
        },
        "id": "_vcVzaT2T4D2",
        "outputId": "830dc508-188d-4e10-ce1a-15b4c66a76f1"
      },
      "execution_count": 7,
      "outputs": [
        {
          "output_type": "stream",
          "name": "stdout",
          "text": [
            "Mejor stump: (np.float64(0.525), np.int64(0), np.int64(1), np.float64(0.0))\n",
            "Predicciones: [0 0 0 1 1 1]\n"
          ]
        }
      ]
    }
  ]
}